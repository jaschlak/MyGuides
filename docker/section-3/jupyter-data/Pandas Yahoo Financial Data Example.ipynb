{
 "cells": [
  {
   "cell_type": "markdown",
   "metadata": {},
   "source": [
    "# Example Data Science Notebook\n",
    "## Yahoo Financial Data analyzed with Pandas"
   ]
  },
  {
   "cell_type": "code",
   "execution_count": null,
   "metadata": {},
   "outputs": [],
   "source": [
    "# Install 'pandas_datareader' Library. https://pandas-datareader.readthedocs.io/en/latest/\n",
    "!pip install pandas_datareader"
   ]
  },
  {
   "cell_type": "code",
   "execution_count": null,
   "metadata": {},
   "outputs": [],
   "source": [
    "from pandas_datareader import data\n",
    "import matplotlib.pyplot as plt\n",
    "from pandas.plotting import register_matplotlib_converters\n",
    "register_matplotlib_converters()\n",
    "import pandas as pd"
   ]
  },
  {
   "cell_type": "code",
   "execution_count": null,
   "metadata": {},
   "outputs": [],
   "source": [
    "# Define tickers to get data for. We would like Google, Apple, DJI and S&P500\n",
    "tickers = ['GOOG', 'AAPL', '^DJI', '^GSPC']\n",
    "\n",
    "# Read data from 2009 till 2018\n",
    "start = '2009-01-01'\n",
    "end = '2018-12-31'\n",
    "\n",
    "# Pandas DataReader using Yahoo data source\n",
    "all_tickers = data.DataReader(tickers, 'yahoo', start, end)"
   ]
  },
  {
   "cell_type": "code",
   "execution_count": null,
   "metadata": {},
   "outputs": [],
   "source": [
    "all_tickers"
   ]
  },
  {
   "cell_type": "code",
   "execution_count": null,
   "metadata": {},
   "outputs": [],
   "source": [
    "# Use just Close values\n",
    "df = all_tickers['Close']"
   ]
  },
  {
   "cell_type": "code",
   "execution_count": null,
   "metadata": {},
   "outputs": [],
   "source": [
    "df"
   ]
  },
  {
   "cell_type": "code",
   "execution_count": null,
   "metadata": {},
   "outputs": [],
   "source": [
    "fig, axs = plt.subplots(figsize=(16,9))\n",
    "for ticker in df.columns: \n",
    "    ticker_data = df.loc[:,ticker]\n",
    "    ticker_data = ticker_data / ticker_data.max()\n",
    "    axs.plot(ticker_data.index, ticker_data, label=ticker)\n",
    "axs.set_xlabel('Date')\n",
    "axs.set_ylabel('Normalized closing price ($)')\n",
    "axs.legend()\n",
    "axs.grid(True)\n",
    "plt.show()"
   ]
  },
  {
   "cell_type": "code",
   "execution_count": null,
   "metadata": {},
   "outputs": [],
   "source": []
  }
 ],
 "metadata": {
  "kernelspec": {
   "display_name": "Python 3",
   "language": "python",
   "name": "python3"
  },
  "language_info": {
   "codemirror_mode": {
    "name": "ipython",
    "version": 3
   },
   "file_extension": ".py",
   "mimetype": "text/x-python",
   "name": "python",
   "nbconvert_exporter": "python",
   "pygments_lexer": "ipython3",
   "version": "3.7.3"
  }
 },
 "nbformat": 4,
 "nbformat_minor": 4
}
